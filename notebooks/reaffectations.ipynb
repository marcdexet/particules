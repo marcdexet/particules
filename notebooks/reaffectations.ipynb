{
 "cells": [
  {
   "cell_type": "markdown",
   "metadata": {
    "collapsed": true,
    "pycharm": {
     "name": "#%% md\n"
    }
   },
   "source": [
    "# Assignments of outside particles\n",
    "\n",
    "Particles are enclosed in a window box whose _length_ and _high_ are:\n",
    "\n",
    "- `window.size.x`\n",
    "- `window.size.y`\n",
    "\n",
    "When they reach the border, they're assigned to a new random position around the center."
   ]
  },
  {
   "cell_type": "code",
   "execution_count": 256,
   "outputs": [
    {
     "name": "stdout",
     "output_type": "stream",
     "text": [
      "Positions \n",
      "[[  2.  -3.]\n",
      " [ 38.  94.]\n",
      " [ 20.  91.]\n",
      " [ 56.  65.]\n",
      " [ 32.  27.]\n",
      " [ 89.  42.]\n",
      " [ 42. -10.]\n",
      " [ 23.   4.]\n",
      " [ 88. 101.]\n",
      " [ 78.  91.]\n",
      " [ 24.   2.]\n",
      " [ 95.  61.]\n",
      " [ -5.  -8.]\n",
      " [ 84.  -3.]\n",
      " [ 13.  80.]\n",
      " [ 68.   3.]\n",
      " [ 46.  10.]\n",
      " [ 39.  -5.]\n",
      " [  8.  72.]\n",
      " [ 40.  75.]\n",
      " [  2.  53.]\n",
      " [ 30.  -7.]\n",
      " [ 17.  34.]\n",
      " [ 87.  92.]\n",
      " [ 54. 103.]\n",
      " [ 50.  38.]\n",
      " [ 67.  64.]\n",
      " [ 70.  80.]\n",
      " [  8.  49.]\n",
      " [ -5.  84.]\n",
      " [ 72.  45.]\n",
      " [ 16.   0.]\n",
      " [-10.  67.]\n",
      " [  2.  44.]\n",
      " [ 91.  -9.]\n",
      " [ 85.  61.]\n",
      " [ 79.  38.]\n",
      " [ 88.  69.]\n",
      " [ 88.  72.]\n",
      " [ 85.  28.]\n",
      " [ 34.  95.]\n",
      " [ 79.  57.]\n",
      " [103. 106.]\n",
      " [  3.  36.]\n",
      " [ 37.  13.]\n",
      " [  7.  33.]\n",
      " [ 73.   9.]\n",
      " [ 30.  50.]\n",
      " [ 41.  80.]\n",
      " [ 27.  78.]]\n",
      "Speed \n",
      "[[0.01594197 0.05910873]\n",
      " [0.05921845 0.01846439]\n",
      " [0.05686757 0.04606374]\n",
      " [0.04334251 0.03510035]\n",
      " [0.07235195 0.08677306]]\n"
     ]
    }
   ],
   "source": [
    "import numpy as np\n",
    "\n",
    "delta = 10\n",
    "\n",
    "\n",
    "positions = np.zeros((50,2)).astype(float)\n",
    "positions[:] = np.vstack( ( np.random.randint(-10,110,50), np.random.randint(-10,110,50)) ).T\n",
    "speeds = np.random.random(10).reshape(5,2)*0.1\n",
    "print(f'Positions \\n{positions}')\n",
    "print(f'Speed \\n{speeds}')"
   ],
   "metadata": {
    "collapsed": false,
    "pycharm": {
     "name": "#%%\n"
    }
   }
  },
  {
   "cell_type": "markdown",
   "source": [
    "## Filtering particles outside\n",
    "\n",
    "Filtering is done with _masking_\n",
    "\n",
    "We use `np.ma.masked_outside` with origin and most valued positions, so\n",
    "`(0, 0)` and `(length, high)`"
   ],
   "metadata": {
    "collapsed": false,
    "pycharm": {
     "name": "#%% md\n"
    }
   }
  },
  {
   "cell_type": "code",
   "execution_count": 257,
   "outputs": [
    {
     "name": "stdout",
     "output_type": "stream",
     "text": [
      "Outside [[2.0 --]\n",
      " [38.0 94.0]\n",
      " [20.0 91.0]\n",
      " [56.0 65.0]\n",
      " [32.0 27.0]\n",
      " [89.0 42.0]\n",
      " [42.0 --]\n",
      " [23.0 4.0]\n",
      " [88.0 --]\n",
      " [78.0 91.0]\n",
      " [24.0 2.0]\n",
      " [95.0 61.0]\n",
      " [-- --]\n",
      " [84.0 --]\n",
      " [13.0 80.0]\n",
      " [68.0 3.0]\n",
      " [46.0 10.0]\n",
      " [39.0 --]\n",
      " [8.0 72.0]\n",
      " [40.0 75.0]\n",
      " [2.0 53.0]\n",
      " [30.0 --]\n",
      " [17.0 34.0]\n",
      " [87.0 92.0]\n",
      " [54.0 --]\n",
      " [50.0 38.0]\n",
      " [67.0 64.0]\n",
      " [70.0 80.0]\n",
      " [8.0 49.0]\n",
      " [-- 84.0]\n",
      " [72.0 45.0]\n",
      " [16.0 --]\n",
      " [-- 67.0]\n",
      " [2.0 44.0]\n",
      " [91.0 --]\n",
      " [85.0 61.0]\n",
      " [79.0 38.0]\n",
      " [88.0 69.0]\n",
      " [88.0 72.0]\n",
      " [85.0 28.0]\n",
      " [34.0 95.0]\n",
      " [79.0 57.0]\n",
      " [-- --]\n",
      " [3.0 36.0]\n",
      " [37.0 13.0]\n",
      " [7.0 33.0]\n",
      " [73.0 9.0]\n",
      " [30.0 50.0]\n",
      " [41.0 80.0]\n",
      " [27.0 78.0]]\n",
      "Outside values of position \n",
      "[ -3. -10. 101.  -5.  -8.  -3.  -5.  -7. 103.  -5.   0. -10.  -9. 103.\n",
      " 106.]\n"
     ]
    }
   ],
   "source": [
    "length=100\n",
    "high=100\n",
    "\n",
    "outside = np.ma.masked_outside(positions, (0.1,0.1),(length,high))\n",
    "print(f'Outside {outside}')\n",
    "print(f'Outside values of position \\n{positions[outside.mask]}')"
   ],
   "metadata": {
    "collapsed": false,
    "pycharm": {
     "name": "#%%\n"
    }
   }
  },
  {
   "cell_type": "markdown",
   "source": [
    "No we count how random values we have to provide\n"
   ],
   "metadata": {
    "collapsed": false,
    "pycharm": {
     "name": "#%% md\n"
    }
   }
  },
  {
   "cell_type": "code",
   "execution_count": 258,
   "outputs": [],
   "source": [
    "count_to_replace = np.count_nonzero(outside.mask == True)"
   ],
   "metadata": {
    "collapsed": false,
    "pycharm": {
     "name": "#%%\n"
    }
   }
  },
  {
   "cell_type": "markdown",
   "source": [
    "Generation of random values for required data given `count_to_replace`"
   ],
   "metadata": {
    "collapsed": false
   }
  },
  {
   "cell_type": "code",
   "execution_count": 259,
   "outputs": [],
   "source": [
    "r_values = np.random.random(count_to_replace)"
   ],
   "metadata": {
    "collapsed": false,
    "pycharm": {
     "name": "#%%\n"
    }
   }
  },
  {
   "cell_type": "markdown",
   "source": [
    "Fill only missing values"
   ],
   "metadata": {
    "collapsed": false
   }
  },
  {
   "cell_type": "code",
   "execution_count": 260,
   "outputs": [
    {
     "data": {
      "text/plain": "array([0.2932754 , 0.11399026, 0.7815017 , 0.02478912, 0.82736806,\n       0.89871294, 0.63102239, 0.79082082, 0.55961254, 0.50076136,\n       0.63139505, 0.24239692, 0.67769614, 0.32713673, 0.32463013])"
     },
     "execution_count": 260,
     "metadata": {},
     "output_type": "execute_result"
    }
   ],
   "source": [
    "r_values"
   ],
   "metadata": {
    "collapsed": false,
    "pycharm": {
     "name": "#%%\n"
    }
   }
  },
  {
   "cell_type": "code",
   "execution_count": 261,
   "outputs": [],
   "source": [
    "#positions[outside.mask] = r_values\n"
   ],
   "metadata": {
    "collapsed": false,
    "pycharm": {
     "name": "#%%\n"
    }
   }
  },
  {
   "cell_type": "markdown",
   "source": [
    "HAlf"
   ],
   "metadata": {
    "collapsed": false,
    "pycharm": {
     "name": "#%% md\n"
    }
   }
  },
  {
   "cell_type": "code",
   "execution_count": 262,
   "outputs": [
    {
     "name": "stdout",
     "output_type": "stream",
     "text": [
      "Outside [2.0 38.0 20.0 56.0 32.0 89.0 42.0 23.0 88.0 78.0 24.0 95.0 -- 84.0 13.0\n",
      " 68.0 46.0 39.0 8.0 40.0 2.0 30.0 17.0 87.0 54.0 50.0 67.0 70.0 8.0 --\n",
      " 72.0 16.0 -- 2.0 91.0 85.0 79.0 88.0 88.0 85.0 34.0 79.0 -- 3.0 37.0 7.0\n",
      " 73.0 30.0 41.0 27.0]\n",
      "Outside data [  2.  38.  20.  56.  32.  89.  42.  23.  88.  78.  24.  95.  -5.  84.\n",
      "  13.  68.  46.  39.   8.  40.   2.  30.  17.  87.  54.  50.  67.  70.\n",
      "   8.  -5.  72.  16. -10.   2.  91.  85.  79.  88.  88.  85.  34.  79.\n",
      " 103.   3.  37.   7.  73.  30.  41.  27.]\n",
      "Positions [[  2.  -3.]\n",
      " [ 38.  94.]\n",
      " [ 20.  91.]\n",
      " [ 56.  65.]\n",
      " [ 32.  27.]\n",
      " [ 89.  42.]\n",
      " [ 42. -10.]\n",
      " [ 23.   4.]\n",
      " [ 88. 101.]\n",
      " [ 78.  91.]\n",
      " [ 24.   2.]\n",
      " [ 95.  61.]\n",
      " [ -5.  -8.]\n",
      " [ 84.  -3.]\n",
      " [ 13.  80.]\n",
      " [ 68.   3.]\n",
      " [ 46.  10.]\n",
      " [ 39.  -5.]\n",
      " [  8.  72.]\n",
      " [ 40.  75.]\n",
      " [  2.  53.]\n",
      " [ 30.  -7.]\n",
      " [ 17.  34.]\n",
      " [ 87.  92.]\n",
      " [ 54. 103.]\n",
      " [ 50.  38.]\n",
      " [ 67.  64.]\n",
      " [ 70.  80.]\n",
      " [  8.  49.]\n",
      " [ -5.  84.]\n",
      " [ 72.  45.]\n",
      " [ 16.   0.]\n",
      " [-10.  67.]\n",
      " [  2.  44.]\n",
      " [ 91.  -9.]\n",
      " [ 85.  61.]\n",
      " [ 79.  38.]\n",
      " [ 88.  69.]\n",
      " [ 88.  72.]\n",
      " [ 85.  28.]\n",
      " [ 34.  95.]\n",
      " [ 79.  57.]\n",
      " [103. 106.]\n",
      " [  3.  36.]\n",
      " [ 37.  13.]\n",
      " [  7.  33.]\n",
      " [ 73.   9.]\n",
      " [ 30.  50.]\n",
      " [ 41.  80.]\n",
      " [ 27.  78.]]\n",
      "Outside values of positions \n",
      "[[ -5.  -8.]\n",
      " [ -5.  84.]\n",
      " [-10.  67.]\n",
      " [103. 106.]]\n",
      "f Count_x 4\n",
      "r_values_x [55 57 50 59]\n",
      "Positions [[  2.  -3.]\n",
      " [ 38.  94.]\n",
      " [ 20.  91.]\n",
      " [ 56.  65.]\n",
      " [ 32.  27.]\n",
      " [ 89.  42.]\n",
      " [ 42. -10.]\n",
      " [ 23.   4.]\n",
      " [ 88. 101.]\n",
      " [ 78.  91.]\n",
      " [ 24.   2.]\n",
      " [ 95.  61.]\n",
      " [ 55.  -8.]\n",
      " [ 84.  -3.]\n",
      " [ 13.  80.]\n",
      " [ 68.   3.]\n",
      " [ 46.  10.]\n",
      " [ 39.  -5.]\n",
      " [  8.  72.]\n",
      " [ 40.  75.]\n",
      " [  2.  53.]\n",
      " [ 30.  -7.]\n",
      " [ 17.  34.]\n",
      " [ 87.  92.]\n",
      " [ 54. 103.]\n",
      " [ 50.  38.]\n",
      " [ 67.  64.]\n",
      " [ 70.  80.]\n",
      " [  8.  49.]\n",
      " [ 57.  84.]\n",
      " [ 72.  45.]\n",
      " [ 16.   0.]\n",
      " [ 50.  67.]\n",
      " [  2.  44.]\n",
      " [ 91.  -9.]\n",
      " [ 85.  61.]\n",
      " [ 79.  38.]\n",
      " [ 88.  69.]\n",
      " [ 88.  72.]\n",
      " [ 85.  28.]\n",
      " [ 34.  95.]\n",
      " [ 79.  57.]\n",
      " [ 59. 106.]\n",
      " [  3.  36.]\n",
      " [ 37.  13.]\n",
      " [  7.  33.]\n",
      " [ 73.   9.]\n",
      " [ 30.  50.]\n",
      " [ 41.  80.]\n",
      " [ 27.  78.]]\n"
     ]
    }
   ],
   "source": [
    "outside_x = np.ma.masked_outside(positions[:,0], 0, length)\n",
    "print(f'Outside {outside_x}')\n",
    "print(f'Outside data {outside_x.data}')\n",
    "print(f'Positions {positions}')\n",
    "print(f'Outside values of positions \\n{positions[outside_x.mask]}')\n",
    "count_x = np.count_nonzero(outside_x.mask == True)\n",
    "print(f'f Count_x {count_x}')\n",
    "r_values_x = np.random.randint(0, 10, count_x)\n",
    "r_values_x += length// 2\n",
    "print(f'r_values_x {r_values_x}')\n",
    "positions[outside_x.mask,0] = r_values_x\n",
    "print(f'Positions {positions}')"
   ],
   "metadata": {
    "collapsed": false,
    "pycharm": {
     "name": "#%%\n"
    }
   }
  },
  {
   "cell_type": "code",
   "execution_count": 263,
   "outputs": [],
   "source": [
    "def center_position_axe(pos_axe, radius, length):\n",
    "    mask = np.ma.masked_outside(pos_axe, 0, length)\n",
    "    size = np.count_nonzero(mask.mask==True)\n",
    "    if size:\n",
    "        values = np.random.randint(-radius + length, +radius +length, size)\n",
    "        print(size, pos_axe, values)\n",
    "        pos_axe[mask.mask] = values"
   ],
   "metadata": {
    "collapsed": false,
    "pycharm": {
     "name": "#%%\n"
    }
   }
  },
  {
   "cell_type": "code",
   "execution_count": 264,
   "outputs": [
    {
     "name": "stdout",
     "output_type": "stream",
     "text": [
      "[[ -2  45]\n",
      " [ 16  13]\n",
      " [ 30  -3]\n",
      " [ 37  21]\n",
      " [ 47  -8]\n",
      " [ -3  55]\n",
      " [ -8  57]\n",
      " [ 38  -2]\n",
      " [ 33  28]\n",
      " [ 32  10]\n",
      " [ -2  36]\n",
      " [ 49  22]\n",
      " [ 57  -4]\n",
      " [ -4  13]\n",
      " [ -5  28]\n",
      " [ -6  38]\n",
      " [ -4  56]\n",
      " [ 14   6]\n",
      " [ 54  35]\n",
      " [ 25  27]\n",
      " [  9  17]\n",
      " [ 37   1]\n",
      " [  3  -8]\n",
      " [ 28  28]\n",
      " [ 34   7]\n",
      " [ 44  18]\n",
      " [ 51 -10]\n",
      " [ -4   1]\n",
      " [  6   3]\n",
      " [ 24  25]\n",
      " [ 11  -8]\n",
      " [ 52  37]\n",
      " [ 23  53]\n",
      " [ 53  18]\n",
      " [  3  26]\n",
      " [ 47   7]\n",
      " [ 26  49]\n",
      " [ -3  24]\n",
      " [ 44  39]\n",
      " [ 21  23]\n",
      " [  0   5]\n",
      " [ 47  42]\n",
      " [ 17  53]\n",
      " [ 10  35]\n",
      " [  2  15]\n",
      " [  6  59]\n",
      " [ 10  39]\n",
      " [ 22  40]\n",
      " [ 25  -2]\n",
      " [ 13  24]]\n",
      "10 [-2 16 30 37 47 -3 -8 38 33 32 -2 49 57 -4 -5 -6 -4 14 54 25  9 37  3 28\n",
      " 34 44 51 -4  6 24 11 52 23 53  3 47 26 -3 44 21  0 47 17 10  2  6 10 22\n",
      " 25 13] [194 190 193 195 209 194 208 197 203 199]\n",
      "8 [ 45  13  -3  21  -8  55  57  -2  28  10  36  22  -4  13  28  38  56   6\n",
      "  35  27  17   1  -8  28   7  18 -10   1   3  25  -8  37  53  18  26   7\n",
      "  49  24  39  23   5  42  53  35  15  59  39  40  -2  24] [598 596 595 602 601 608 591 609]\n",
      "[[194  45]\n",
      " [ 16  13]\n",
      " [ 30 598]\n",
      " [ 37  21]\n",
      " [ 47 596]\n",
      " [190  55]\n",
      " [193  57]\n",
      " [ 38 595]\n",
      " [ 33  28]\n",
      " [ 32  10]\n",
      " [195  36]\n",
      " [ 49  22]\n",
      " [ 57 602]\n",
      " [209  13]\n",
      " [194  28]\n",
      " [208  38]\n",
      " [197  56]\n",
      " [ 14   6]\n",
      " [ 54  35]\n",
      " [ 25  27]\n",
      " [  9  17]\n",
      " [ 37   1]\n",
      " [  3 601]\n",
      " [ 28  28]\n",
      " [ 34   7]\n",
      " [ 44  18]\n",
      " [ 51 608]\n",
      " [203   1]\n",
      " [  6   3]\n",
      " [ 24  25]\n",
      " [ 11 591]\n",
      " [ 52  37]\n",
      " [ 23  53]\n",
      " [ 53  18]\n",
      " [  3  26]\n",
      " [ 47   7]\n",
      " [ 26  49]\n",
      " [199  24]\n",
      " [ 44  39]\n",
      " [ 21  23]\n",
      " [  0   5]\n",
      " [ 47  42]\n",
      " [ 17  53]\n",
      " [ 10  35]\n",
      " [  2  15]\n",
      " [  6  59]\n",
      " [ 10  39]\n",
      " [ 22  40]\n",
      " [ 25 609]\n",
      " [ 13  24]]\n"
     ]
    }
   ],
   "source": [
    "foo = np.random.randint(-10,+60,100).reshape(50,2)\n",
    "print(foo)\n",
    "center_position_axe(foo[:,0], 10, 200)\n",
    "center_position_axe(foo[:,1],10,600)\n",
    "print(foo)\n",
    "\n"
   ],
   "metadata": {
    "collapsed": false,
    "pycharm": {
     "name": "#%%\n"
    }
   }
  }
 ],
 "metadata": {
  "kernelspec": {
   "display_name": "Python 3",
   "language": "python",
   "name": "python3"
  },
  "language_info": {
   "codemirror_mode": {
    "name": "ipython",
    "version": 2
   },
   "file_extension": ".py",
   "mimetype": "text/x-python",
   "name": "python",
   "nbconvert_exporter": "python",
   "pygments_lexer": "ipython2",
   "version": "2.7.6"
  }
 },
 "nbformat": 4,
 "nbformat_minor": 0
}