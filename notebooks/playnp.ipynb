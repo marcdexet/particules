{
 "cells": [
  {
   "cell_type": "code",
   "execution_count": 458,
   "metadata": {
    "collapsed": true
   },
   "outputs": [],
   "source": [
    "import numpy as np"
   ]
  },
  {
   "cell_type": "code",
   "execution_count": 459,
   "outputs": [
    {
     "name": "stdout",
     "output_type": "stream",
     "text": [
      "[[1.98977872 0.13706154]\n",
      " [0.14722622 1.23499066]\n",
      " [0.17182956 0.36158629]\n",
      " [0.64157897 0.79555384]\n",
      " [1.8437969  1.07807606]]\n",
      "[[0.05397784 0.09111457]\n",
      " [0.03784174 0.07162615]\n",
      " [0.06092985 0.05740398]\n",
      " [0.07900904 0.00426106]\n",
      " [0.04185402 0.04590815]]\n"
     ]
    }
   ],
   "source": [
    "positions = np.random.random(10).reshape(5,2)*2\n",
    "speeds = np.random.random(10).reshape(5,2)*0.1\n",
    "print(positions)\n",
    "print(speeds)"
   ],
   "metadata": {
    "collapsed": false,
    "pycharm": {
     "name": "#%%\n"
    }
   }
  },
  {
   "cell_type": "code",
   "execution_count": 460,
   "outputs": [
    {
     "name": "stdout",
     "output_type": "stream",
     "text": [
      "Outside [[-- --]\n",
      " [-- 1.2349906601649987]\n",
      " [-- 0.3615862948486772]\n",
      " [0.6415789730036885 0.7955538378559328]\n",
      " [-- 1.0780760596518602]]\n",
      "Outside values of position \n",
      "[1.98977872 0.13706154 0.14722622 0.17182956 1.8437969 ]\n"
     ]
    }
   ],
   "source": [
    "outside = np.ma.masked_outside(positions, (0.2,0.2),(1.5,1.5))\n",
    "print(f'Outside {outside}')\n",
    "print(f'Outside values of position \\n{positions[outside.mask]}')"
   ],
   "metadata": {
    "collapsed": false,
    "pycharm": {
     "name": "#%%\n"
    }
   }
  },
  {
   "cell_type": "markdown",
   "source": [
    "Count outside values"
   ],
   "metadata": {
    "collapsed": false,
    "pycharm": {
     "name": "#%% md\n"
    }
   }
  },
  {
   "cell_type": "code",
   "execution_count": 461,
   "outputs": [],
   "source": [
    "count_to_replace = np.count_nonzero(outside.mask == True)"
   ],
   "metadata": {
    "collapsed": false,
    "pycharm": {
     "name": "#%%\n"
    }
   }
  },
  {
   "cell_type": "markdown",
   "source": [
    "Generation of random values for required data given `count_to_replace`"
   ],
   "metadata": {
    "collapsed": false,
    "pycharm": {
     "name": "#%% md\n"
    }
   }
  },
  {
   "cell_type": "code",
   "execution_count": 462,
   "outputs": [],
   "source": [
    "r_values = np.random.random(count_to_replace)"
   ],
   "metadata": {
    "collapsed": false,
    "pycharm": {
     "name": "#%%\n"
    }
   }
  },
  {
   "cell_type": "markdown",
   "source": [
    "Fill only missing values"
   ],
   "metadata": {
    "collapsed": false
   }
  },
  {
   "cell_type": "code",
   "execution_count": 463,
   "outputs": [
    {
     "data": {
      "text/plain": "array([0.22440808, 0.38679914, 0.37268586, 0.68398974, 0.88727745])"
     },
     "execution_count": 463,
     "metadata": {},
     "output_type": "execute_result"
    }
   ],
   "source": [
    "r_values"
   ],
   "metadata": {
    "collapsed": false,
    "pycharm": {
     "name": "#%%\n"
    }
   }
  },
  {
   "cell_type": "code",
   "execution_count": 464,
   "outputs": [],
   "source": [
    "positions[outside.mask] = r_values"
   ],
   "metadata": {
    "collapsed": false,
    "pycharm": {
     "name": "#%%\n"
    }
   }
  },
  {
   "cell_type": "code",
   "execution_count": 465,
   "outputs": [
    {
     "data": {
      "text/plain": "array([[0.22440808, 0.38679914],\n       [0.37268586, 1.23499066],\n       [0.68398974, 0.36158629],\n       [0.64157897, 0.79555384],\n       [0.88727745, 1.07807606]])"
     },
     "execution_count": 465,
     "metadata": {},
     "output_type": "execute_result"
    }
   ],
   "source": [
    "positions\n"
   ],
   "metadata": {
    "collapsed": false,
    "pycharm": {
     "name": "#%%\n"
    }
   }
  },
  {
   "cell_type": "code",
   "execution_count": 466,
   "outputs": [
    {
     "name": "stdout",
     "output_type": "stream",
     "text": [
      "POS [[0.22440808 0.38679914]\n",
      " [0.37268586 1.23499066]\n",
      " [0.68398974 0.36158629]\n",
      " [0.64157897 0.79555384]\n",
      " [0.88727745 1.07807606]]\n",
      "MASK [[False False]\n",
      " [False  True]\n",
      " [False False]\n",
      " [False False]\n",
      " [False  True]]\n",
      "positions[mask] [1.23499066 1.07807606]\n",
      "positions[mask] [1. 1.]\n",
      "position [[0.22440808 0.38679914]\n",
      " [0.37268586 1.        ]\n",
      " [0.68398974 0.36158629]\n",
      " [0.64157897 0.79555384]\n",
      " [0.88727745 1.        ]]\n"
     ]
    }
   ],
   "source": [
    "print(f'POS {positions}')\n",
    "mask = positions[0:] > 1.\n",
    "print(f'MASK {mask}')\n",
    "print(f'positions[mask] {positions[mask]}')\n",
    "positions[mask] = 1.\n",
    "print(f'positions[mask] {positions[mask]}')\n",
    "print(f'position {positions}')"
   ],
   "metadata": {
    "collapsed": false,
    "pycharm": {
     "name": "#%%\n"
    }
   }
  }
 ],
 "metadata": {
  "kernelspec": {
   "display_name": "Python 3",
   "language": "python",
   "name": "python3"
  },
  "language_info": {
   "codemirror_mode": {
    "name": "ipython",
    "version": 2
   },
   "file_extension": ".py",
   "mimetype": "text/x-python",
   "name": "python",
   "nbconvert_exporter": "python",
   "pygments_lexer": "ipython2",
   "version": "2.7.6"
  }
 },
 "nbformat": 4,
 "nbformat_minor": 0
}